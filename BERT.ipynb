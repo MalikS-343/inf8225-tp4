{
  "nbformat": 4,
  "nbformat_minor": 0,
  "metadata": {
    "colab": {
      "provenance": [],
      "gpuType": "T4"
    },
    "kernelspec": {
      "name": "python3",
      "display_name": "Python 3"
    },
    "language_info": {
      "name": "python"
    },
    "accelerator": "GPU"
  },
  "cells": [
    {
      "cell_type": "markdown",
      "source": [
        "# Génération des corrections d'un modèle BERT pré-entraîné\n",
        "Le jeu de données utilisé est CoNLL-2014.  \n",
        "La majorité du code est basé sur le répertoire github (https://github.com/kanekomasahiro/bert-gec) de l'article Encoder-Decoder Models Can Benefit from Pre-trained Masked Language Models in Grammatical Error Correction [Kaneko\n",
        "et al., 2020]."
      ],
      "metadata": {
        "id": "zMv9PHjxPMEF"
      }
    },
    {
      "cell_type": "markdown",
      "source": [
        "# Installations et importations"
      ],
      "metadata": {
        "id": "555zIi_bzI_3"
      }
    },
    {
      "cell_type": "code",
      "execution_count": null,
      "metadata": {
        "id": "N8pbN-eeOz8D"
      },
      "outputs": [],
      "source": [
        "!wget https://raw.githubusercontent.com/kanekomasahiro/bert-gec/master/scripts/convert_m2_to_parallel.py\n",
        "!wget https://raw.githubusercontent.com/kanekomasahiro/bert-gec/master/scripts/detok.py\n",
        "!wget https://raw.githubusercontent.com/kanekomasahiro/bert-gec/master/scripts/generate.sh\n",
        "!wget https://raw.githubusercontent.com/kanekomasahiro/bert-gec/master/scripts/setup.sh\n",
        "!wget https://raw.githubusercontent.com/kanekomasahiro/bert-gec/master/scripts/train.sh"
      ]
    },
    {
      "cell_type": "code",
      "source": [
        "!pip install boto3"
      ],
      "metadata": {
        "id": "ZeeCnhisw2WL"
      },
      "execution_count": null,
      "outputs": []
    },
    {
      "cell_type": "code",
      "source": [
        "import shutil\n",
        "import os"
      ],
      "metadata": {
        "id": "9M7u7ElZprC7"
      },
      "execution_count": null,
      "outputs": []
    },
    {
      "cell_type": "code",
      "source": [
        "from google.colab import drive, files\n",
        "drive.mount('/content/drive')"
      ],
      "metadata": {
        "id": "cUWO683SQF64"
      },
      "execution_count": null,
      "outputs": []
    },
    {
      "cell_type": "code",
      "source": [
        "os.mkdir(\"/bert-fuse/\")\n",
        "\n",
        "shutil.copy(\"/content/drive/MyDrive/official-2014.combined.m2\", \"/content/\")\n",
        "shutil.copy(\"/content/drive/MyDrive/dict.src.txt\", \"/bert-fuse/\")\n",
        "shutil.copy(\"/content/drive/MyDrive/dict.trg.txt\", \"/bert-fuse/\")\n",
        "shutil.copy(\"/content/drive/MyDrive/checkpoint_best.pt\", \"/bert-fuse/\")"
      ],
      "metadata": {
        "id": "sLBluGxhQm3M"
      },
      "execution_count": null,
      "outputs": []
    },
    {
      "cell_type": "markdown",
      "source": [
        "# Génération des fichiers sources et cibles"
      ],
      "metadata": {
        "id": "38dJNJczzPIV"
      }
    },
    {
      "cell_type": "code",
      "source": [
        "!python convert_m2_to_parallel.py official-2014.combined.m2 output_src.txt output_tgt.txt"
      ],
      "metadata": {
        "id": "fggpMT9ytgBj"
      },
      "execution_count": null,
      "outputs": []
    },
    {
      "cell_type": "code",
      "source": [
        "files.download('/content/output_src.txt')\n",
        "files.download('/content/output_tgt.txt')"
      ],
      "metadata": {
        "id": "d3ycoH_ax0Qk"
      },
      "execution_count": null,
      "outputs": []
    },
    {
      "cell_type": "markdown",
      "source": [
        "# BERT"
      ],
      "metadata": {
        "id": "WjHZphg5zURL"
      }
    },
    {
      "cell_type": "markdown",
      "source": [
        "## Préparation"
      ],
      "metadata": {
        "id": "yBmISCRmzWcN"
      }
    },
    {
      "cell_type": "code",
      "source": [
        "!sh setup.sh"
      ],
      "metadata": {
        "id": "PBKoze44wEbw"
      },
      "execution_count": null,
      "outputs": []
    },
    {
      "cell_type": "markdown",
      "source": [
        "Certains des fichiers téléchargés utilisent des versions antérieures de numpy et de pytorch. Ils sont modifiés ici pour être comptatibles avec les versions à jour."
      ],
      "metadata": {
        "id": "2G8haTNjzYL0"
      }
    },
    {
      "cell_type": "code",
      "source": [
        "# Remplacement de np.float par np.float64\n",
        "with open(\"../bert-nmt/fairseq/data/indexed_dataset.py\", \"r+\") as f:\n",
        "  content = f.read()\n",
        "  modified_content = content.replace(\"np.float\", \"np.float64\")\n",
        "  f.seek(0)\n",
        "  f.write(modified_content)\n"
      ],
      "metadata": {
        "id": "qGaQrygM1U1J"
      },
      "execution_count": null,
      "outputs": []
    },
    {
      "cell_type": "code",
      "source": [
        "# Les opérations entre les float et les bool ne sont plus supportées par pytorch\n",
        "with open(\"../bert-nmt/fairseq/sequence_generator.py\", \"r+\") as f:\n",
        "  content = f.read()\n",
        "  modified_content = content.replace(\"bert_outs, _ = model.models[0].bert_encoder(bertinput, output_all_encoded_layers=True, attention_mask= 1. - bert_encoder_padding_mask)\",\n",
        "                                     \"bert_outs, _ = model.models[0].bert_encoder(bertinput, output_all_encoded_layers=True, attention_mask=~bert_encoder_padding_mask)\")\n",
        "  f.seek(0)\n",
        "  f.truncate()\n",
        "  f.write(modified_content)"
      ],
      "metadata": {
        "id": "rlP02ec1Xib5"
      },
      "execution_count": null,
      "outputs": []
    },
    {
      "cell_type": "code",
      "source": [
        "# torch.div ne supporte plus l'assignation d'un float à un double\n",
        "with open(\"../bert-nmt/fairseq/search.py\", \"r+\") as f:\n",
        "  content = f.read()\n",
        "  modified_content = content.replace(\"torch.div(self.indices_buf, vocab_size, out=self.beams_buf)\",\n",
        "                                     \"self.beams_buf = self.indices_buf // vocab_size\")\n",
        "  f.seek(0)\n",
        "  f.truncate()\n",
        "  f.write(modified_content)\n"
      ],
      "metadata": {
        "id": "MwTllkGDjxxC"
      },
      "execution_count": null,
      "outputs": []
    },
    {
      "cell_type": "markdown",
      "source": [
        "## Génération des prédictions du modèle BERT"
      ],
      "metadata": {
        "id": "60Gg--VM0EWd"
      }
    },
    {
      "cell_type": "code",
      "source": [
        "!sh generate.sh output_src.txt 0"
      ],
      "metadata": {
        "id": "8ZKDth4XiqDy"
      },
      "execution_count": null,
      "outputs": []
    },
    {
      "cell_type": "code",
      "source": [
        "files.download('../bert-fuse/output/test.bert.src')\n",
        "files.download('../bert-fuse/output/test.best.tok')\n",
        "files.download('../bert-fuse/output/test.bpe.src')\n",
        "files.download('../bert-fuse/output/test.cat.src')\n",
        "files.download('../bert-fuse/output/test.nbest.tok')"
      ],
      "metadata": {
        "id": "iiWc4FYzseGL"
      },
      "execution_count": null,
      "outputs": []
    }
  ]
}