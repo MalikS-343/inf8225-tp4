{
  "nbformat": 4,
  "nbformat_minor": 0,
  "metadata": {
    "colab": {
      "provenance": [],
      "gpuType": "T4"
    },
    "kernelspec": {
      "name": "python3",
      "display_name": "Python 3"
    },
    "language_info": {
      "name": "python"
    },
    "accelerator": "GPU"
  },
  "cells": [
    {
      "cell_type": "code",
      "execution_count": null,
      "metadata": {
        "id": "mwyjIORtvpgD"
      },
      "outputs": [],
      "source": [
        "!pip install transformers==4.23.1 accelerate==0.13.2\n",
        "!pip install boto3\n",
        "import shutil\n",
        "import os"
      ]
    },
    {
      "cell_type": "code",
      "source": [
        "from google.colab import drive, files"
      ],
      "metadata": {
        "id": "oDI2ZRZ62_Os"
      },
      "execution_count": null,
      "outputs": []
    },
    {
      "cell_type": "code",
      "source": [
        "drive.mount('/content/drive')"
      ],
      "metadata": {
        "id": "nT0kNFFdweWn"
      },
      "execution_count": null,
      "outputs": []
    },
    {
      "cell_type": "code",
      "source": [
        "!git clone https://github.com/gotutiyan/GEC-BART.git"
      ],
      "metadata": {
        "id": "tbZD3ZN417CR"
      },
      "execution_count": null,
      "outputs": []
    },
    {
      "cell_type": "code",
      "source": [
        "%cd GEC-BART"
      ],
      "metadata": {
        "id": "R6NPJtzj1_hU"
      },
      "execution_count": null,
      "outputs": []
    },
    {
      "cell_type": "code",
      "source": [
        "import transformers\n",
        "transformers.utils.move_cache()\n",
        "!pip install tensorflow[and-cuda]"
      ],
      "metadata": {
        "id": "MX9I6b5v2Mv7"
      },
      "execution_count": null,
      "outputs": []
    },
    {
      "cell_type": "code",
      "source": [
        "import subprocess\n",
        "\n",
        "command = [\n",
        "    'python', 'generate.py',\n",
        "    '--restore_dir', 'gotutiyan/gec-bart-base',\n",
        "    '--input', '/content/drive/My Drive/output_src.txt'\n",
        "]\n",
        "\n",
        "output = subprocess.check_output(command, stderr=subprocess.STDOUT).decode()\n",
        "\n",
        "print(output)"
      ],
      "metadata": {
        "id": "JBPjJS2G7Ge8"
      },
      "execution_count": null,
      "outputs": []
    },
    {
      "cell_type": "code",
      "source": [
        "output_lines = output.split('\\n')\n",
        "\n",
        "index = next((i for i, line in enumerate(output_lines) if \"Keeping the Secret of Genetic Testing\" in line), None)\n",
        "\n",
        "if index is not None:\n",
        "    output_lines = output_lines[index:]\n",
        "    output = '\\n'.join(output_lines)\n",
        "\n",
        "\n",
        "output_file_path = '/content/drive/My Drive/corrected_BART.txt'\n",
        "\n",
        "with open(output_file_path, 'w') as f:\n",
        "    f.write(output)"
      ],
      "metadata": {
        "id": "MSQzopDn8IUs"
      },
      "execution_count": null,
      "outputs": []
    }
  ]
}